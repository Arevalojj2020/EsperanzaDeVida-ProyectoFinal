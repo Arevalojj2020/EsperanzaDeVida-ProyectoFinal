{
 "cells": [
  {
   "cell_type": "code",
   "execution_count": 1,
   "metadata": {},
   "outputs": [],
   "source": [
    "import numpy as np\n",
    "import pandas as pd\n",
    "import matplotlib.pyplot as plt\n",
    "import seaborn as sns\n",
    "import pickle\n",
    "import types"
   ]
  },
  {
   "cell_type": "code",
   "execution_count": 236,
   "metadata": {},
   "outputs": [
    {
     "data": {
      "text/html": [
       "<div>\n",
       "<style scoped>\n",
       "    .dataframe tbody tr th:only-of-type {\n",
       "        vertical-align: middle;\n",
       "    }\n",
       "\n",
       "    .dataframe tbody tr th {\n",
       "        vertical-align: top;\n",
       "    }\n",
       "\n",
       "    .dataframe thead th {\n",
       "        text-align: right;\n",
       "    }\n",
       "</style>\n",
       "<table border=\"1\" class=\"dataframe\">\n",
       "  <thead>\n",
       "    <tr style=\"text-align: right;\">\n",
       "      <th></th>\n",
       "      <th>Country</th>\n",
       "      <th>Year</th>\n",
       "      <th>Life_expectancy</th>\n",
       "      <th>GDP_per_capita</th>\n",
       "      <th>GNI</th>\n",
       "      <th>GDP</th>\n",
       "      <th>Urban_population</th>\n",
       "      <th>Rural_population</th>\n",
       "      <th>Military_expenditure</th>\n",
       "      <th>General_government_final_consumption_expenditure</th>\n",
       "      <th>Population_growth</th>\n",
       "      <th>Access_to_electricity</th>\n",
       "      <th>Food_exports</th>\n",
       "      <th>Food_production_index</th>\n",
       "      <th>Households_and_npish_final_consumption_expenditure</th>\n",
       "    </tr>\n",
       "  </thead>\n",
       "  <tbody>\n",
       "    <tr>\n",
       "      <th>0</th>\n",
       "      <td>MAR</td>\n",
       "      <td>2021</td>\n",
       "      <td>74.042</td>\n",
       "      <td>3795.380127</td>\n",
       "      <td>1.409217e+11</td>\n",
       "      <td>1.428663e+11</td>\n",
       "      <td>64.065</td>\n",
       "      <td>35.935</td>\n",
       "      <td>4.183513</td>\n",
       "      <td>2.653235e+10</td>\n",
       "      <td>1.051484</td>\n",
       "      <td>NaN</td>\n",
       "      <td>20.707122</td>\n",
       "      <td>115.66</td>\n",
       "      <td>59.461716</td>\n",
       "    </tr>\n",
       "    <tr>\n",
       "      <th>1</th>\n",
       "      <td>MAR</td>\n",
       "      <td>2020</td>\n",
       "      <td>73.920</td>\n",
       "      <td>3258.121338</td>\n",
       "      <td>1.201880e+11</td>\n",
       "      <td>1.213481e+11</td>\n",
       "      <td>63.532</td>\n",
       "      <td>36.468</td>\n",
       "      <td>4.281029</td>\n",
       "      <td>2.356120e+10</td>\n",
       "      <td>1.053160</td>\n",
       "      <td>100.000000</td>\n",
       "      <td>23.089200</td>\n",
       "      <td>98.63</td>\n",
       "      <td>59.061331</td>\n",
       "    </tr>\n",
       "    <tr>\n",
       "      <th>2</th>\n",
       "      <td>MAR</td>\n",
       "      <td>2019</td>\n",
       "      <td>74.270</td>\n",
       "      <td>3498.573975</td>\n",
       "      <td>1.269783e+11</td>\n",
       "      <td>1.289199e+11</td>\n",
       "      <td>62.994</td>\n",
       "      <td>37.006</td>\n",
       "      <td>3.099936</td>\n",
       "      <td>2.343627e+10</td>\n",
       "      <td>1.043584</td>\n",
       "      <td>99.599998</td>\n",
       "      <td>21.168753</td>\n",
       "      <td>110.16</td>\n",
       "      <td>59.038131</td>\n",
       "    </tr>\n",
       "    <tr>\n",
       "      <th>3</th>\n",
       "      <td>MAR</td>\n",
       "      <td>2018</td>\n",
       "      <td>73.986</td>\n",
       "      <td>3492.673340</td>\n",
       "      <td>1.254254e+11</td>\n",
       "      <td>1.273412e+11</td>\n",
       "      <td>62.453</td>\n",
       "      <td>37.547</td>\n",
       "      <td>3.118588</td>\n",
       "      <td>2.291601e+10</td>\n",
       "      <td>1.117897</td>\n",
       "      <td>98.099998</td>\n",
       "      <td>20.626725</td>\n",
       "      <td>115.69</td>\n",
       "      <td>59.462684</td>\n",
       "    </tr>\n",
       "    <tr>\n",
       "      <th>4</th>\n",
       "      <td>MAR</td>\n",
       "      <td>2017</td>\n",
       "      <td>73.660</td>\n",
       "      <td>3288.502197</td>\n",
       "      <td>1.167144e+11</td>\n",
       "      <td>1.185405e+11</td>\n",
       "      <td>61.908</td>\n",
       "      <td>38.092</td>\n",
       "      <td>3.183041</td>\n",
       "      <td>2.131593e+10</td>\n",
       "      <td>1.191629</td>\n",
       "      <td>100.000000</td>\n",
       "      <td>21.126733</td>\n",
       "      <td>108.46</td>\n",
       "      <td>59.320390</td>\n",
       "    </tr>\n",
       "  </tbody>\n",
       "</table>\n",
       "</div>"
      ],
      "text/plain": [
       "  Country  Year  Life_expectancy  GDP_per_capita           GNI           GDP  \\\n",
       "0     MAR  2021           74.042     3795.380127  1.409217e+11  1.428663e+11   \n",
       "1     MAR  2020           73.920     3258.121338  1.201880e+11  1.213481e+11   \n",
       "2     MAR  2019           74.270     3498.573975  1.269783e+11  1.289199e+11   \n",
       "3     MAR  2018           73.986     3492.673340  1.254254e+11  1.273412e+11   \n",
       "4     MAR  2017           73.660     3288.502197  1.167144e+11  1.185405e+11   \n",
       "\n",
       "   Urban_population  Rural_population  Military_expenditure  \\\n",
       "0            64.065            35.935              4.183513   \n",
       "1            63.532            36.468              4.281029   \n",
       "2            62.994            37.006              3.099936   \n",
       "3            62.453            37.547              3.118588   \n",
       "4            61.908            38.092              3.183041   \n",
       "\n",
       "   General_government_final_consumption_expenditure  Population_growth  \\\n",
       "0                                      2.653235e+10           1.051484   \n",
       "1                                      2.356120e+10           1.053160   \n",
       "2                                      2.343627e+10           1.043584   \n",
       "3                                      2.291601e+10           1.117897   \n",
       "4                                      2.131593e+10           1.191629   \n",
       "\n",
       "   Access_to_electricity  Food_exports  Food_production_index  \\\n",
       "0                    NaN     20.707122                 115.66   \n",
       "1             100.000000     23.089200                  98.63   \n",
       "2              99.599998     21.168753                 110.16   \n",
       "3              98.099998     20.626725                 115.69   \n",
       "4             100.000000     21.126733                 108.46   \n",
       "\n",
       "   Households_and_npish_final_consumption_expenditure  \n",
       "0                                          59.461716   \n",
       "1                                          59.061331   \n",
       "2                                          59.038131   \n",
       "3                                          59.462684   \n",
       "4                                          59.320390   "
      ]
     },
     "execution_count": 236,
     "metadata": {},
     "output_type": "execute_result"
    }
   ],
   "source": [
    "# If you are reading an Excel file into a pandas DataFrame, replace `read_csv` by `read_excel` in the next statement.\n",
    "dataset = pd.read_csv('Life Expectancy.csv')\n",
    "dataset.head()"
   ]
  },
  {
   "cell_type": "code",
   "execution_count": 237,
   "metadata": {},
   "outputs": [
    {
     "name": "stdout",
     "output_type": "stream",
     "text": [
      "    Country  Year  Life_expectancy  GDP_per_capita           GNI  \\\n",
      "253     AFG  1992           47.596             NaN           NaN   \n",
      "254     AFG  1991           46.663             NaN           NaN   \n",
      "255     AFG  1990           45.967             NaN           NaN   \n",
      "256     THA  2021           78.715     7066.190546  4.885460e+11   \n",
      "257     THA  2020           79.274     6990.935503  4.882077e+11   \n",
      "\n",
      "              GDP  Urban_population  Rural_population  Military_expenditure  \\\n",
      "253           NaN            21.355            78.645                   NaN   \n",
      "254           NaN            21.266            78.734                   NaN   \n",
      "255           NaN            21.177            78.823                   NaN   \n",
      "256  5.059470e+11            52.163            47.837              1.318443   \n",
      "257  4.996818e+11            51.430            48.570              1.459520   \n",
      "\n",
      "     General_government_final_consumption_expenditure  Population_growth  \\\n",
      "253                                               NaN          11.522524   \n",
      "254                                               NaN           0.469880   \n",
      "255                                               NaN           0.202434   \n",
      "256                                      9.195756e+10           0.175345   \n",
      "257                                      8.914667e+10           0.235183   \n",
      "\n",
      "     Access_to_electricity  Food_exports  Food_production_index  \\\n",
      "253                    NaN           NaN                  58.98   \n",
      "254                    NaN           NaN                  60.86   \n",
      "255                    NaN           NaN                  53.02   \n",
      "256                    NaN     13.603747                  98.35   \n",
      "257                  100.0     14.418046                  94.36   \n",
      "\n",
      "     Households_and_npish_final_consumption_expenditure  \n",
      "253                                                NaN   \n",
      "254                                                NaN   \n",
      "255                                                NaN   \n",
      "256                                          52.059987   \n",
      "257                                          53.089665   \n"
     ]
    }
   ],
   "source": [
    "filas_especificas = dataset.loc[[253 ,254, 255, 256, 257]]\n",
    "print(filas_especificas)"
   ]
  },
  {
   "cell_type": "code",
   "execution_count": 238,
   "metadata": {},
   "outputs": [],
   "source": [
    "# Filtrar las filas donde 'Country' es igual a 'AFG' y 'GDP' es nulo\n",
    "condicion = (dataset['Country'] == 'AFG') & (dataset['GDP'].isnull())\n",
    "dataset.loc[condicion, 'GDP'] = dataset.loc[243, 'GDP']"
   ]
  },
  {
   "cell_type": "code",
   "execution_count": 239,
   "metadata": {},
   "outputs": [],
   "source": [
    "# Filtrar las filas donde 'Country' es igual a 'IRN' y 'GDP' es nulo\n",
    "condicion = (dataset['Country'] == 'IRN') & (dataset['GDP'].isnull())\n",
    "dataset.loc[condicion, 'GDP'] = dataset.loc[92, 'GDP']"
   ]
  },
  {
   "cell_type": "code",
   "execution_count": 240,
   "metadata": {},
   "outputs": [
    {
     "data": {
      "text/plain": [
       "Life_expectancy                                         0\n",
       "GDP_per_capita                                         14\n",
       "GNI                                                    21\n",
       "GDP                                                     0\n",
       "Urban_population                                        0\n",
       "Rural_population                                        0\n",
       "Military_expenditure                                   42\n",
       "General_government_final_consumption_expenditure       60\n",
       "Population_growth                                       0\n",
       "Access_to_electricity                                 112\n",
       "Food_exports                                          102\n",
       "Food_production_index                                   5\n",
       "Households_and_npish_final_consumption_expenditure     58\n",
       "dtype: int64"
      ]
     },
     "execution_count": 240,
     "metadata": {},
     "output_type": "execute_result"
    },
    {
     "data": {
      "image/png": "[encoded data removed]",
      "text/plain": [
       "<Figure size 432x288 with 2 Axes>"
      ]
     },
     "metadata": {
      "needs_background": "light"
     },
     "output_type": "display_data"
    }
   ],
   "source": [
    "dataset = dataset.drop(['Year','Country'],axis=1)\n",
    "\n",
    "dataset.head()\n",
    "sns.heatmap(pd.isnull(dataset))\n",
    "dataset.isnull().sum()"
   ]
  },
  {
   "cell_type": "code",
   "execution_count": 241,
   "metadata": {},
   "outputs": [
    {
     "data": {
      "text/plain": [
       "<AxesSubplot: >"
      ]
     },
     "execution_count": 241,
     "metadata": {},
     "output_type": "execute_result"
    },
    {
     "data": {
      "image/png": "[encoded data removed]",
      "text/plain": [
       "<Figure size 432x288 with 2 Axes>"
      ]
     },
     "metadata": {
      "needs_background": "light"
     },
     "output_type": "display_data"
    }
   ],
   "source": [
    "dataset['Life_expectancy']=dataset['Life_expectancy'].fillna(value=dataset['Life_expectancy'].mean())\n",
    "dataset['GDP_per_capita']=dataset['GDP_per_capita'].fillna(value=dataset['GDP_per_capita'].mean())\n",
    "corr_data=dataset.corr()\n",
    "corr_data\n",
    "sns.heatmap(corr_data)"
   ]
  },
  {
   "cell_type": "code",
   "execution_count": 242,
   "metadata": {},
   "outputs": [
    {
     "data": {
      "text/plain": [
       "<AxesSubplot: xlabel='GNI', ylabel='GDP'>"
      ]
     },
     "execution_count": 242,
     "metadata": {},
     "output_type": "execute_result"
    },
    {
     "data": {
      "image/png": "[encoded data removed]",
      "text/plain": [
       "<Figure size 432x288 with 1 Axes>"
      ]
     },
     "metadata": {
      "needs_background": "light"
     },
     "output_type": "display_data"
    }
   ],
   "source": [
    "sns.scatterplot(x=dataset['GNI'],y=dataset['GDP'])\n"
   ]
  },
  {
   "cell_type": "code",
   "execution_count": 243,
   "metadata": {},
   "outputs": [],
   "source": [
    "# Supongamos que tienes un DataFrame llamado dataset\n",
    "# con las columnas 'GNI' y 'GDP'\n",
    "\n",
    "# Utilizar el método fillna() para imputar los valores faltantes en 'GNI' con los valores de 'GDP'\n",
    "dataset['GNI'].fillna(dataset['GDP'], inplace=True)"
   ]
  },
  {
   "cell_type": "code",
   "execution_count": 244,
   "metadata": {},
   "outputs": [
    {
     "data": {
      "text/plain": [
       "<AxesSubplot: xlabel='Access_to_electricity', ylabel='Life_expectancy'>"
      ]
     },
     "execution_count": 244,
     "metadata": {},
     "output_type": "execute_result"
    },
    {
     "data": {
      "image/png": "[encoded data removed]",
      "text/plain": [
       "<Figure size 432x288 with 1 Axes>"
      ]
     },
     "metadata": {
      "needs_background": "light"
     },
     "output_type": "display_data"
    }
   ],
   "source": [
    "sns.scatterplot(x=dataset['Access_to_electricity'],y=dataset['Life_expectancy'])"
   ]
  },
  {
   "cell_type": "code",
   "execution_count": 245,
   "metadata": {},
   "outputs": [],
   "source": [
    "def impute_access_to_electricity(c):\n",
    "    p=c[0]\n",
    "    l=c[1]\n",
    "    if pd.isnull(p):\n",
    "        if l<=59:\n",
    "            return 19.0\n",
    "        elif 59<l<=65:\n",
    "            return 69.0\n",
    "        elif 65<l<=70:\n",
    "            return 90.0\n",
    "        elif l>70:\n",
    "            return 99.0\n",
    "    else:\n",
    "        return p\n",
    "\n",
    "dataset['Access_to_electricity']=dataset[['Access_to_electricity','Life_expectancy']].apply(impute_access_to_electricity,axis=1)"
   ]
  },
  {
   "cell_type": "code",
   "execution_count": 246,
   "metadata": {},
   "outputs": [
    {
     "data": {
      "text/plain": [
       "<AxesSubplot: xlabel='General_government_final_consumption_expenditure', ylabel='GDP'>"
      ]
     },
     "execution_count": 246,
     "metadata": {},
     "output_type": "execute_result"
    },
    {
     "data": {
      "image/png": "[encoded data removed]",
      "text/plain": [
       "<Figure size 432x288 with 1 Axes>"
      ]
     },
     "metadata": {
      "needs_background": "light"
     },
     "output_type": "display_data"
    }
   ],
   "source": [
    "sns.scatterplot(x=dataset['General_government_final_consumption_expenditure'],y=dataset['GDP'])"
   ]
  },
  {
   "cell_type": "code",
   "execution_count": 247,
   "metadata": {},
   "outputs": [],
   "source": [
    "def impute_Ggfce(c):\n",
    "    g=c[0]\n",
    "    p=c[1]\n",
    "    if pd.isnull(g):\n",
    "        if p<=0.5:\n",
    "            return 0.75\n",
    "        elif 0.5<p<=1.0:\n",
    "            return 1.25\n",
    "        elif 1.0<p<=1.5:\n",
    "            return 1.75\n",
    "        elif 1.5<p<=2.0:\n",
    "            return 2.50\n",
    "        elif p>2.0:\n",
    "            return 3.0\n",
    "    else:\n",
    "        return g\n",
    "\n",
    "dataset['General_government_final_consumption_expenditure']=dataset[['General_government_final_consumption_expenditure','GDP']].apply(impute_Ggfce,axis=1)"
   ]
  },
  {
   "cell_type": "code",
   "execution_count": 248,
   "metadata": {},
   "outputs": [
    {
     "data": {
      "text/plain": [
       "<AxesSubplot: xlabel='Food_exports', ylabel='Population_growth'>"
      ]
     },
     "execution_count": 248,
     "metadata": {},
     "output_type": "execute_result"
    },
    {
     "data": {
      "image/png": "[encoded data removed]",
      "text/plain": [
       "<Figure size 432x288 with 1 Axes>"
      ]
     },
     "metadata": {
      "needs_background": "light"
     },
     "output_type": "display_data"
    }
   ],
   "source": [
    "sns.scatterplot(x=dataset['Food_exports'],y=dataset['Population_growth'])"
   ]
  },
  {
   "cell_type": "code",
   "execution_count": 249,
   "metadata": {},
   "outputs": [],
   "source": [
    "dataset['Food_exports'].fillna(dataset['Population_growth'] * 18.7, inplace=True)"
   ]
  },
  {
   "cell_type": "code",
   "execution_count": 250,
   "metadata": {},
   "outputs": [],
   "source": [
    "dataset['Food_production_index'].fillna(method='ffill', inplace=True)\n"
   ]
  },
  {
   "cell_type": "code",
   "execution_count": 251,
   "metadata": {},
   "outputs": [
    {
     "data": {
      "text/plain": [
       "<AxesSubplot: xlabel='Military_expenditure', ylabel='GDP'>"
      ]
     },
     "execution_count": 251,
     "metadata": {},
     "output_type": "execute_result"
    },
    {
     "data": {
      "image/png": "[encoded data removed]",
      "text/plain": [
       "<Figure size 432x288 with 1 Axes>"
      ]
     },
     "metadata": {
      "needs_background": "light"
     },
     "output_type": "display_data"
    }
   ],
   "source": [
    "sns.scatterplot(x=dataset['Military_expenditure'],y=dataset['GDP'])"
   ]
  },
  {
   "cell_type": "code",
   "execution_count": 252,
   "metadata": {},
   "outputs": [],
   "source": [
    "dataset['Military_expenditure'].fillna(method='ffill', inplace=True)"
   ]
  },
  {
   "cell_type": "code",
   "execution_count": 253,
   "metadata": {},
   "outputs": [],
   "source": [
    "dataset['Households_and_npish_final_consumption_expenditure'].fillna(method='ffill', inplace=True)"
   ]
  },
  {
   "attachments": {},
   "cell_type": "markdown",
   "metadata": {},
   "source": [
    "*18.7"
   ]
  },
  {
   "cell_type": "code",
   "execution_count": 254,
   "metadata": {},
   "outputs": [
    {
     "data": {
      "text/html": [
       "<div>\n",
       "<style scoped>\n",
       "    .dataframe tbody tr th:only-of-type {\n",
       "        vertical-align: middle;\n",
       "    }\n",
       "\n",
       "    .dataframe tbody tr th {\n",
       "        vertical-align: top;\n",
       "    }\n",
       "\n",
       "    .dataframe thead th {\n",
       "        text-align: right;\n",
       "    }\n",
       "</style>\n",
       "<table border=\"1\" class=\"dataframe\">\n",
       "  <thead>\n",
       "    <tr style=\"text-align: right;\">\n",
       "      <th></th>\n",
       "      <th>Feature name</th>\n",
       "      <th>no. of Nan</th>\n",
       "    </tr>\n",
       "  </thead>\n",
       "  <tbody>\n",
       "    <tr>\n",
       "      <th>0</th>\n",
       "      <td>Life_expectancy</td>\n",
       "      <td>0</td>\n",
       "    </tr>\n",
       "    <tr>\n",
       "      <th>1</th>\n",
       "      <td>GDP_per_capita</td>\n",
       "      <td>0</td>\n",
       "    </tr>\n",
       "    <tr>\n",
       "      <th>2</th>\n",
       "      <td>GNI</td>\n",
       "      <td>0</td>\n",
       "    </tr>\n",
       "    <tr>\n",
       "      <th>3</th>\n",
       "      <td>GDP</td>\n",
       "      <td>0</td>\n",
       "    </tr>\n",
       "    <tr>\n",
       "      <th>4</th>\n",
       "      <td>Urban_population</td>\n",
       "      <td>0</td>\n",
       "    </tr>\n",
       "    <tr>\n",
       "      <th>5</th>\n",
       "      <td>Rural_population</td>\n",
       "      <td>0</td>\n",
       "    </tr>\n",
       "    <tr>\n",
       "      <th>6</th>\n",
       "      <td>Military_expenditure</td>\n",
       "      <td>0</td>\n",
       "    </tr>\n",
       "    <tr>\n",
       "      <th>7</th>\n",
       "      <td>General_government_final_consumption_expenditure</td>\n",
       "      <td>0</td>\n",
       "    </tr>\n",
       "    <tr>\n",
       "      <th>8</th>\n",
       "      <td>Population_growth</td>\n",
       "      <td>0</td>\n",
       "    </tr>\n",
       "    <tr>\n",
       "      <th>9</th>\n",
       "      <td>Access_to_electricity</td>\n",
       "      <td>0</td>\n",
       "    </tr>\n",
       "    <tr>\n",
       "      <th>10</th>\n",
       "      <td>Food_exports</td>\n",
       "      <td>0</td>\n",
       "    </tr>\n",
       "    <tr>\n",
       "      <th>11</th>\n",
       "      <td>Food_production_index</td>\n",
       "      <td>0</td>\n",
       "    </tr>\n",
       "    <tr>\n",
       "      <th>12</th>\n",
       "      <td>Households_and_npish_final_consumption_expendi...</td>\n",
       "      <td>0</td>\n",
       "    </tr>\n",
       "  </tbody>\n",
       "</table>\n",
       "</div>"
      ],
      "text/plain": [
       "                                         Feature name  no. of Nan\n",
       "0                                     Life_expectancy           0\n",
       "1                                      GDP_per_capita           0\n",
       "2                                                 GNI           0\n",
       "3                                                 GDP           0\n",
       "4                                    Urban_population           0\n",
       "5                                    Rural_population           0\n",
       "6                                Military_expenditure           0\n",
       "7    General_government_final_consumption_expenditure           0\n",
       "8                                   Population_growth           0\n",
       "9                               Access_to_electricity           0\n",
       "10                                       Food_exports           0\n",
       "11                              Food_production_index           0\n",
       "12  Households_and_npish_final_consumption_expendi...           0"
      ]
     },
     "execution_count": 254,
     "metadata": {},
     "output_type": "execute_result"
    }
   ],
   "source": [
    "a=list(dataset.columns)\n",
    "b=[]\n",
    "for i in a:\n",
    "    c=dataset[i].isnull().sum()\n",
    "    b.append(c)\n",
    "null_df=pd.DataFrame({'Feature name':a,'no. of Nan':b})\n",
    "null_df"
   ]
  },
  {
   "cell_type": "code",
   "execution_count": null,
   "metadata": {},
   "outputs": [],
   "source": []
  },
  {
   "cell_type": "code",
   "execution_count": 255,
   "metadata": {},
   "outputs": [],
   "source": [
    "y=dataset['Life_expectancy']\n",
    "X=dataset.drop('Life_expectancy',axis=1)"
   ]
  },
  {
   "cell_type": "code",
   "execution_count": 256,
   "metadata": {},
   "outputs": [
    {
     "data": {
      "text/plain": [
       "(960, 12)"
      ]
     },
     "execution_count": 256,
     "metadata": {},
     "output_type": "execute_result"
    }
   ],
   "source": [
    "X.shape"
   ]
  },
  {
   "cell_type": "code",
   "execution_count": 257,
   "metadata": {},
   "outputs": [],
   "source": [
    "from sklearn.model_selection import train_test_split\n",
    "X_train, X_test, y_train, y_test = train_test_split(X, y, test_size=0.20, random_state=101)"
   ]
  },
  {
   "cell_type": "code",
   "execution_count": 258,
   "metadata": {},
   "outputs": [
    {
     "data": {
      "text/html": [
       "<style>#sk-container-id-4 {color: black;background-color: white;}#sk-container-id-4 pre{padding: 0;}#sk-container-id-4 div.sk-toggleable {background-color: white;}#sk-container-id-4 label.sk-toggleable__label {cursor: pointer;display: block;width: 100%;margin-bottom: 0;padding: 0.3em;box-sizing: border-box;text-align: center;}#sk-container-id-4 label.sk-toggleable__label-arrow:before {content: \"▸\";float: left;margin-right: 0.25em;color: #696969;}#sk-container-id-4 label.sk-toggleable__label-arrow:hover:before {color: black;}#sk-container-id-4 div.sk-estimator:hover label.sk-toggleable__label-arrow:before {color: black;}#sk-container-id-4 div.sk-toggleable__content {max-height: 0;max-width: 0;overflow: hidden;text-align: left;background-color: #f0f8ff;}#sk-container-id-4 div.sk-toggleable__content pre {margin: 0.2em;color: black;border-radius: 0.25em;background-color: #f0f8ff;}#sk-container-id-4 input.sk-toggleable__control:checked~div.sk-toggleable__content {max-height: 200px;max-width: 100%;overflow: auto;}#sk-container-id-4 input.sk-toggleable__control:checked~label.sk-toggleable__label-arrow:before {content: \"▾\";}#sk-container-id-4 div.sk-estimator input.sk-toggleable__control:checked~label.sk-toggleable__label {background-color: #d4ebff;}#sk-container-id-4 div.sk-label input.sk-toggleable__control:checked~label.sk-toggleable__label {background-color: #d4ebff;}#sk-container-id-4 input.sk-hidden--visually {border: 0;clip: rect(1px 1px 1px 1px);clip: rect(1px, 1px, 1px, 1px);height: 1px;margin: -1px;overflow: hidden;padding: 0;position: absolute;width: 1px;}#sk-container-id-4 div.sk-estimator {font-family: monospace;background-color: #f0f8ff;border: 1px dotted black;border-radius: 0.25em;box-sizing: border-box;margin-bottom: 0.5em;}#sk-container-id-4 div.sk-estimator:hover {background-color: #d4ebff;}#sk-container-id-4 div.sk-parallel-item::after {content: \"\";width: 100%;border-bottom: 1px solid gray;flex-grow: 1;}#sk-container-id-4 div.sk-label:hover label.sk-toggleable__label {background-color: #d4ebff;}#sk-container-id-4 div.sk-serial::before {content: \"\";position: absolute;border-left: 1px solid gray;box-sizing: border-box;top: 0;bottom: 0;left: 50%;z-index: 0;}#sk-container-id-4 div.sk-serial {display: flex;flex-direction: column;align-items: center;background-color: white;padding-right: 0.2em;padding-left: 0.2em;position: relative;}#sk-container-id-4 div.sk-item {position: relative;z-index: 1;}#sk-container-id-4 div.sk-parallel {display: flex;align-items: stretch;justify-content: center;background-color: white;position: relative;}#sk-container-id-4 div.sk-item::before, #sk-container-id-4 div.sk-parallel-item::before {content: \"\";position: absolute;border-left: 1px solid gray;box-sizing: border-box;top: 0;bottom: 0;left: 50%;z-index: -1;}#sk-container-id-4 div.sk-parallel-item {display: flex;flex-direction: column;z-index: 1;position: relative;background-color: white;}#sk-container-id-4 div.sk-parallel-item:first-child::after {align-self: flex-end;width: 50%;}#sk-container-id-4 div.sk-parallel-item:last-child::after {align-self: flex-start;width: 50%;}#sk-container-id-4 div.sk-parallel-item:only-child::after {width: 0;}#sk-container-id-4 div.sk-dashed-wrapped {border: 1px dashed gray;margin: 0 0.4em 0.5em 0.4em;box-sizing: border-box;padding-bottom: 0.4em;background-color: white;}#sk-container-id-4 div.sk-label label {font-family: monospace;font-weight: bold;display: inline-block;line-height: 1.2em;}#sk-container-id-4 div.sk-label-container {text-align: center;}#sk-container-id-4 div.sk-container {/* jupyter's `normalize.less` sets `[hidden] { display: none; }` but bootstrap.min.css set `[hidden] { display: none !important; }` so we also need the `!important` here to be able to override the default hidden behavior on the sphinx rendered scikit-learn.org. See: https://github.com/scikit-learn/scikit-learn/issues/21755 */display: inline-block !important;position: relative;}#sk-container-id-4 div.sk-text-repr-fallback {display: none;}</style><div id=\"sk-container-id-4\" class=\"sk-top-container\"><div class=\"sk-text-repr-fallback\"><pre>RandomForestRegressor(random_state=0)</pre><b>In a Jupyter environment, please rerun this cell to show the HTML representation or trust the notebook. <br />On GitHub, the HTML representation is unable to render, please try loading this page with nbviewer.org.</b></div><div class=\"sk-container\" hidden><div class=\"sk-item\"><div class=\"sk-estimator sk-toggleable\"><input class=\"sk-toggleable__control sk-hidden--visually\" id=\"sk-estimator-id-4\" type=\"checkbox\" checked><label for=\"sk-estimator-id-4\" class=\"sk-toggleable__label sk-toggleable__label-arrow\">RandomForestRegressor</label><div class=\"sk-toggleable__content\"><pre>RandomForestRegressor(random_state=0)</pre></div></div></div></div></div>"
      ],
      "text/plain": [
       "RandomForestRegressor(random_state=0)"
      ]
     },
     "execution_count": 258,
     "metadata": {},
     "output_type": "execute_result"
    }
   ],
   "source": [
    "from sklearn.ensemble import RandomForestRegressor\n",
    "regressor = RandomForestRegressor(n_estimators = 100, random_state = 0)\n",
    "regressor.fit(X_train, y_train)"
   ]
  },
  {
   "cell_type": "code",
   "execution_count": 259,
   "metadata": {},
   "outputs": [
    {
     "name": "stdout",
     "output_type": "stream",
     "text": [
      "[[57.47 60.72]\n",
      " [74.71 75.11]\n",
      " [64.24 61.43]\n",
      " [62.32 62.48]\n",
      " [71.38 71.36]\n",
      " [67.78 65.96]\n",
      " [72.66 72.84]\n",
      " [78.02 76.98]\n",
      " [66.28 66.15]\n",
      " [64.1  65.67]\n",
      " [80.49 79.84]\n",
      " [78.01 77.73]\n",
      " [74.32 74.19]\n",
      " [78.86 78.82]\n",
      " [70.08 70.42]\n",
      " [74.06 73.93]\n",
      " [58.9  58.44]\n",
      " [80.17 78.96]\n",
      " [67.16 65.98]\n",
      " [71.44 72.54]\n",
      " [77.07 75.82]\n",
      " [64.81 64.15]\n",
      " [82.14 81.63]\n",
      " [76.65 76.13]\n",
      " [77.83 77.48]\n",
      " [63.53 63.02]\n",
      " [67.64 66.74]\n",
      " [79.83 79.87]\n",
      " [76.39 75.89]\n",
      " [79.28 79.4 ]\n",
      " [49.45 49.93]\n",
      " [62.12 62.91]\n",
      " [82.36 81.96]\n",
      " [76.37 76.03]\n",
      " [70.64 72.99]\n",
      " [68.03 70.75]\n",
      " [66.17 66.82]\n",
      " [67.82 65.53]\n",
      " [68.94 70.12]\n",
      " [81.05 80.9 ]\n",
      " [63.79 62.58]\n",
      " [78.67 80.23]\n",
      " [71.44 71.65]\n",
      " [78.58 78.22]\n",
      " [63.37 63.38]\n",
      " [72.53 70.07]\n",
      " [77.37 78.72]\n",
      " [67.24 67.4 ]\n",
      " [66.41 67.23]\n",
      " [77.51 77.49]\n",
      " [75.98 76.14]\n",
      " [82.81 83.35]\n",
      " [81.33 81.1 ]\n",
      " [70.87 72.12]\n",
      " [54.78 54.53]\n",
      " [71.43 72.46]\n",
      " [76.94 76.58]\n",
      " [78.58 78.12]\n",
      " [78.66 78.52]\n",
      " [56.28 58.36]\n",
      " [73.39 73.41]\n",
      " [68.43 68.84]\n",
      " [73.41 70.21]\n",
      " [74.38 74.33]\n",
      " [81.23 81.29]\n",
      " [72.25 72.92]\n",
      " [78.09 78.33]\n",
      " [75.52 76.01]\n",
      " [64.14 66.17]\n",
      " [82.91 82.36]\n",
      " [67.9  69.07]\n",
      " [64.08 63.87]\n",
      " [66.36 67.94]\n",
      " [71.65 71.58]\n",
      " [71.47 71.5 ]\n",
      " [66.47 66.39]\n",
      " [81.35 82.03]\n",
      " [68.34 67.06]\n",
      " [70.49 70.72]\n",
      " [68.05 67.74]\n",
      " [76.17 76.08]\n",
      " [53.32 54.85]\n",
      " [61.89 62.34]\n",
      " [68.82 64.94]\n",
      " [68.4  68.56]\n",
      " [78.12 77.99]\n",
      " [70.94 70.41]\n",
      " [78.65 78.84]\n",
      " [71.04 70.62]\n",
      " [78.93 77.67]\n",
      " [71.62 72.69]\n",
      " [80.59 81.28]\n",
      " [68.43 68.7 ]\n",
      " [80.8  80.75]\n",
      " [64.88 64.84]\n",
      " [80.75 81.49]\n",
      " [80.33 79.7 ]\n",
      " [68.42 69.1 ]\n",
      " [73.82 73.94]\n",
      " [67.86 67.89]\n",
      " [81.03 80.84]\n",
      " [56.02 59.73]\n",
      " [67.15 67.64]\n",
      " [60.47 59.85]\n",
      " [71.11 73.14]\n",
      " [61.78 61.05]\n",
      " [78.83 78.62]\n",
      " [65.09 65.64]\n",
      " [64.92 64.97]\n",
      " [82.43 82.48]\n",
      " [79.52 79.62]\n",
      " [77.4  75.87]\n",
      " [75.39 75.18]\n",
      " [63.66 62.45]\n",
      " [77.91 79.28]\n",
      " [67.64 67.13]\n",
      " [68.92 69.55]\n",
      " [82.13 83.28]\n",
      " [80.63 80.46]\n",
      " [74.44 74.09]\n",
      " [78.28 77.98]\n",
      " [72.04 73.08]\n",
      " [67.83 67.78]\n",
      " [68.51 67.66]\n",
      " [78.68 79.37]\n",
      " [80.75 81.42]\n",
      " [71.85 73.68]\n",
      " [77.96 78.14]\n",
      " [78.81 78.  ]\n",
      " [62.37 61.46]\n",
      " [71.6  71.94]\n",
      " [71.1  73.38]\n",
      " [65.75 62.66]\n",
      " [81.15 80.96]\n",
      " [67.53 65.82]\n",
      " [75.93 75.09]\n",
      " [78.12 78.06]\n",
      " [72.71 73.16]\n",
      " [71.33 72.12]\n",
      " [75.16 75.79]\n",
      " [77.42 78.65]\n",
      " [80.64 80.55]\n",
      " [79.52 79.85]\n",
      " [70.4  68.81]\n",
      " [70.65 70.44]\n",
      " [73.68 73.57]\n",
      " [66.45 67.19]\n",
      " [73.81 73.94]\n",
      " [73.13 73.18]\n",
      " [66.64 66.74]\n",
      " [54.56 56.43]\n",
      " [72.49 71.34]\n",
      " [82.35 83.2 ]\n",
      " [69.19 67.91]\n",
      " [74.4  75.97]\n",
      " [69.47 70.05]\n",
      " [81.91 81.83]\n",
      " [80.72 79.54]\n",
      " [79.2  79.8 ]\n",
      " [71.85 71.28]\n",
      " [47.06 46.9 ]\n",
      " [68.31 68.31]\n",
      " [72.67 72.81]\n",
      " [55.86 57.94]\n",
      " [70.11 69.66]\n",
      " [77.15 78.06]\n",
      " [71.2  71.68]\n",
      " [80.77 80.64]\n",
      " [72.13 70.74]\n",
      " [63.09 63.62]\n",
      " [67.63 66.31]\n",
      " [73.92 73.88]\n",
      " [71.26 73.17]\n",
      " [75.29 75.49]\n",
      " [66.78 68.22]\n",
      " [70.4  69.19]\n",
      " [71.36 68.47]\n",
      " [69.53 70.24]\n",
      " [74.68 74.77]\n",
      " [67.66 62.67]\n",
      " [71.35 70.99]\n",
      " [64.92 65.24]\n",
      " [75.44 75.37]\n",
      " [80.67 81.43]\n",
      " [70.32 70.48]\n",
      " [72.54 72.43]\n",
      " [69.04 69.13]\n",
      " [71.75 72.65]\n",
      " [55.41 57.59]\n",
      " [69.11 70.46]\n",
      " [69.86 69.74]\n",
      " [77.74 77.98]]\n"
     ]
    }
   ],
   "source": [
    "# Predicting a new result\n",
    "y_pred = regressor.predict(X_test)\n",
    "np.set_printoptions(precision=2)\n",
    "y_pred = np.array(y_pred)\n",
    "y_test = np.array(y_test)\n",
    "\n",
    "print(np.concatenate((y_pred.reshape(len(y_test),1), y_test.reshape(len(y_test),1)),1))"
   ]
  },
  {
   "cell_type": "code",
   "execution_count": 260,
   "metadata": {},
   "outputs": [
    {
     "name": "stdout",
     "output_type": "stream",
     "text": [
      "0.9731343427607309\n"
     ]
    }
   ],
   "source": [
    "accuracy_score =  regressor.score(X_test,y_test)\n",
    "print(accuracy_score)"
   ]
  },
  {
   "cell_type": "code",
   "execution_count": 261,
   "metadata": {},
   "outputs": [
    {
     "data": {
      "text/plain": [
       "0.9715352502804586"
      ]
     },
     "execution_count": 261,
     "metadata": {},
     "output_type": "execute_result"
    }
   ],
   "source": [
    "from sklearn.model_selection import cross_val_score\n",
    "accuracies = cross_val_score(regressor,X_train,y_train,cv=10)\n",
    "accuracies.mean()"
   ]
  },
  {
   "cell_type": "code",
   "execution_count": 262,
   "metadata": {},
   "outputs": [],
   "source": [
    "pkl_filename = \"pickle_model.pkl\"\n",
    "with open(pkl_filename, 'wb') as file:\n",
    "    pickle.dump(regressor, file)"
   ]
  },
  {
   "cell_type": "code",
   "execution_count": 263,
   "metadata": {},
   "outputs": [],
   "source": [
    "# Cargamos el modelo\n",
    "pkl_filename = \"pickle_model.pkl\"\n",
    "with open(pkl_filename, 'rb') as file:\n",
    "    regressor = pickle.load(file)"
   ]
  },
  {
   "cell_type": "code",
   "execution_count": 264,
   "metadata": {},
   "outputs": [
    {
     "name": "stdout",
     "output_type": "stream",
     "text": [
      "0.9731343427607309\n"
     ]
    }
   ],
   "source": [
    "# Encontramos el accuracy promedio usando datos de test\n",
    "score = regressor.score(X_test, y_test)\n",
    "print(score)"
   ]
  }
 ],
 "metadata": {
  "kernelspec": {
   "display_name": "Python 3",
   "language": "python",
   "name": "python3"
  },
  "language_info": {
   "codemirror_mode": {
    "name": "ipython",
    "version": 3
   },
   "file_extension": ".py",
   "mimetype": "text/x-python",
   "name": "python",
   "nbconvert_exporter": "python",
   "pygments_lexer": "ipython3",
   "version": "3.10.10"
  },
  "orig_nbformat": 4
 },
 "nbformat": 4,
 "nbformat_minor": 2
}
