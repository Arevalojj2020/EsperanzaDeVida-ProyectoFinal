{
 "cells": [
  {
   "cell_type": "code",
   "execution_count": 1,
   "metadata": {},
   "outputs": [],
   "source": [
    "import pandas as pd\n",
    "import numpy as np"
   ]
  },
  {
   "cell_type": "code",
   "execution_count": 2,
   "metadata": {},
   "outputs": [],
   "source": [
    "data=pd.read_csv('data_original_oms/che_verbose.csv')"
   ]
  },
  {
   "cell_type": "code",
   "execution_count": 3,
   "metadata": {},
   "outputs": [],
   "source": [
    "pd.set_option('display.max_columns', None)"
   ]
  },
  {
   "cell_type": "code",
   "execution_count": 4,
   "metadata": {},
   "outputs": [
    {
     "data": {
      "text/html": [
       "<div>\n",
       "<style scoped>\n",
       "    .dataframe tbody tr th:only-of-type {\n",
       "        vertical-align: middle;\n",
       "    }\n",
       "\n",
       "    .dataframe tbody tr th {\n",
       "        vertical-align: top;\n",
       "    }\n",
       "\n",
       "    .dataframe thead th {\n",
       "        text-align: right;\n",
       "    }\n",
       "</style>\n",
       "<table border=\"1\" class=\"dataframe\">\n",
       "  <thead>\n",
       "    <tr style=\"text-align: right;\">\n",
       "      <th></th>\n",
       "      <th>GHO (CODE)</th>\n",
       "      <th>GHO (DISPLAY)</th>\n",
       "      <th>GHO (URL)</th>\n",
       "      <th>PUBLISHSTATE (CODE)</th>\n",
       "      <th>PUBLISHSTATE (DISPLAY)</th>\n",
       "      <th>PUBLISHSTATE (URL)</th>\n",
       "      <th>YEAR (CODE)</th>\n",
       "      <th>YEAR (DISPLAY)</th>\n",
       "      <th>YEAR (URL)</th>\n",
       "      <th>REGION (CODE)</th>\n",
       "      <th>REGION (DISPLAY)</th>\n",
       "      <th>REGION (URL)</th>\n",
       "      <th>COUNTRY (CODE)</th>\n",
       "      <th>COUNTRY (DISPLAY)</th>\n",
       "      <th>COUNTRY (URL)</th>\n",
       "      <th>Display Value</th>\n",
       "      <th>Numeric</th>\n",
       "      <th>Low</th>\n",
       "      <th>High</th>\n",
       "      <th>StdErr</th>\n",
       "      <th>StdDev</th>\n",
       "      <th>Comments</th>\n",
       "    </tr>\n",
       "  </thead>\n",
       "  <tbody>\n",
       "    <tr>\n",
       "      <th>0</th>\n",
       "      <td>GHED_CHEGDP_SHA2011</td>\n",
       "      <td>Current health expenditure (CHE) as percentage...</td>\n",
       "      <td>NaN</td>\n",
       "      <td>PUBLISHED</td>\n",
       "      <td>Published</td>\n",
       "      <td>NaN</td>\n",
       "      <td>2002</td>\n",
       "      <td>2002</td>\n",
       "      <td>NaN</td>\n",
       "      <td>EMR</td>\n",
       "      <td>Eastern Mediterranean</td>\n",
       "      <td>NaN</td>\n",
       "      <td>AFG</td>\n",
       "      <td>Afghanistan</td>\n",
       "      <td>NaN</td>\n",
       "      <td>9.44</td>\n",
       "      <td>9.44</td>\n",
       "      <td>NaN</td>\n",
       "      <td>NaN</td>\n",
       "      <td>NaN</td>\n",
       "      <td>NaN</td>\n",
       "      <td>NaN</td>\n",
       "    </tr>\n",
       "    <tr>\n",
       "      <th>1</th>\n",
       "      <td>GHED_CHEGDP_SHA2011</td>\n",
       "      <td>Current health expenditure (CHE) as percentage...</td>\n",
       "      <td>NaN</td>\n",
       "      <td>PUBLISHED</td>\n",
       "      <td>Published</td>\n",
       "      <td>NaN</td>\n",
       "      <td>2003</td>\n",
       "      <td>2003</td>\n",
       "      <td>NaN</td>\n",
       "      <td>EMR</td>\n",
       "      <td>Eastern Mediterranean</td>\n",
       "      <td>NaN</td>\n",
       "      <td>AFG</td>\n",
       "      <td>Afghanistan</td>\n",
       "      <td>NaN</td>\n",
       "      <td>8.94</td>\n",
       "      <td>8.94</td>\n",
       "      <td>NaN</td>\n",
       "      <td>NaN</td>\n",
       "      <td>NaN</td>\n",
       "      <td>NaN</td>\n",
       "      <td>NaN</td>\n",
       "    </tr>\n",
       "  </tbody>\n",
       "</table>\n",
       "</div>"
      ],
      "text/plain": [
       "            GHO (CODE)                                      GHO (DISPLAY)  \\\n",
       "0  GHED_CHEGDP_SHA2011  Current health expenditure (CHE) as percentage...   \n",
       "1  GHED_CHEGDP_SHA2011  Current health expenditure (CHE) as percentage...   \n",
       "\n",
       "   GHO (URL) PUBLISHSTATE (CODE) PUBLISHSTATE (DISPLAY)  PUBLISHSTATE (URL)  \\\n",
       "0        NaN           PUBLISHED              Published                 NaN   \n",
       "1        NaN           PUBLISHED              Published                 NaN   \n",
       "\n",
       "   YEAR (CODE)  YEAR (DISPLAY)  YEAR (URL) REGION (CODE)  \\\n",
       "0         2002            2002         NaN           EMR   \n",
       "1         2003            2003         NaN           EMR   \n",
       "\n",
       "        REGION (DISPLAY)  REGION (URL) COUNTRY (CODE) COUNTRY (DISPLAY)  \\\n",
       "0  Eastern Mediterranean           NaN            AFG       Afghanistan   \n",
       "1  Eastern Mediterranean           NaN            AFG       Afghanistan   \n",
       "\n",
       "   COUNTRY (URL)  Display Value  Numeric  Low  High  StdErr  StdDev  Comments  \n",
       "0            NaN           9.44     9.44  NaN   NaN     NaN     NaN       NaN  \n",
       "1            NaN           8.94     8.94  NaN   NaN     NaN     NaN       NaN  "
      ]
     },
     "execution_count": 4,
     "metadata": {},
     "output_type": "execute_result"
    }
   ],
   "source": [
    "data.head(2)\n"
   ]
  },
  {
   "cell_type": "code",
   "execution_count": 5,
   "metadata": {},
   "outputs": [
    {
     "name": "stdout",
     "output_type": "stream",
     "text": [
      "['GHO (CODE)', 'GHO (DISPLAY)', 'GHO (URL)', 'PUBLISHSTATE (CODE)', 'PUBLISHSTATE (DISPLAY)', 'PUBLISHSTATE (URL)', 'YEAR (CODE)', 'YEAR (DISPLAY)', 'YEAR (URL)', 'REGION (CODE)', 'REGION (DISPLAY)', 'REGION (URL)', 'COUNTRY (CODE)', 'COUNTRY (DISPLAY)', 'COUNTRY (URL)', 'Display Value', 'Numeric', 'Low', 'High', 'StdErr', 'StdDev', 'Comments']\n"
     ]
    }
   ],
   "source": [
    "# Obtener la lista de columnas\n",
    "columnas = data.columns.tolist()\n",
    "print(columnas)"
   ]
  },
  {
   "cell_type": "code",
   "execution_count": 6,
   "metadata": {},
   "outputs": [],
   "source": [
    "\n",
    "\n",
    "# Obtener el valor único de la segunda columna\n",
    "valor_b = data['GHO (CODE)'].unique()[0]\n",
    "\n",
    "# Obtener el valor único de la tercera columna\n",
    "valor_c = data['GHO (DISPLAY)'].unique()[0]\n",
    "\n",
    "# Crear un nuevo DataFrame con una sola fila y dos columnas\n",
    "indicador = pd.DataFrame({'COD_INDICADOR': [valor_b],\n",
    "                         'NOMBRE_INDICADOR': [valor_c]})\n",
    "\n"
   ]
  },
  {
   "cell_type": "code",
   "execution_count": 7,
   "metadata": {},
   "outputs": [
    {
     "data": {
      "text/html": [
       "<div>\n",
       "<style scoped>\n",
       "    .dataframe tbody tr th:only-of-type {\n",
       "        vertical-align: middle;\n",
       "    }\n",
       "\n",
       "    .dataframe tbody tr th {\n",
       "        vertical-align: top;\n",
       "    }\n",
       "\n",
       "    .dataframe thead th {\n",
       "        text-align: right;\n",
       "    }\n",
       "</style>\n",
       "<table border=\"1\" class=\"dataframe\">\n",
       "  <thead>\n",
       "    <tr style=\"text-align: right;\">\n",
       "      <th></th>\n",
       "      <th>COD_INDICADOR</th>\n",
       "      <th>NOMBRE_INDICADOR</th>\n",
       "    </tr>\n",
       "  </thead>\n",
       "  <tbody>\n",
       "    <tr>\n",
       "      <th>0</th>\n",
       "      <td>GHED_CHEGDP_SHA2011</td>\n",
       "      <td>Current health expenditure (CHE) as percentage...</td>\n",
       "    </tr>\n",
       "  </tbody>\n",
       "</table>\n",
       "</div>"
      ],
      "text/plain": [
       "         COD_INDICADOR                                   NOMBRE_INDICADOR\n",
       "0  GHED_CHEGDP_SHA2011  Current health expenditure (CHE) as percentage..."
      ]
     },
     "execution_count": 7,
     "metadata": {},
     "output_type": "execute_result"
    }
   ],
   "source": [
    "indicador"
   ]
  },
  {
   "cell_type": "code",
   "execution_count": 8,
   "metadata": {},
   "outputs": [
    {
     "name": "stdout",
     "output_type": "stream",
     "text": [
      "     COD_PAIS  ANIO        COD_INDICADOR  VALOR\n",
      "0         AFG  2002  GHED_CHEGDP_SHA2011   9.44\n",
      "1         AFG  2003  GHED_CHEGDP_SHA2011   8.94\n",
      "2         AFG  2004  GHED_CHEGDP_SHA2011   9.81\n",
      "3         AFG  2005  GHED_CHEGDP_SHA2011   9.95\n",
      "4         AFG  2006  GHED_CHEGDP_SHA2011  10.62\n",
      "...       ...   ...                  ...    ...\n",
      "3856      VNM  2016  GHED_CHEGDP_SHA2011   4.52\n",
      "3857      VNM  2017  GHED_CHEGDP_SHA2011   4.71\n",
      "3858      VNM  2018  GHED_CHEGDP_SHA2011   5.05\n",
      "3859      VNM  2019  GHED_CHEGDP_SHA2011   5.03\n",
      "3860      VNM  2020  GHED_CHEGDP_SHA2011   4.68\n",
      "\n",
      "[623 rows x 4 columns]\n"
     ]
    }
   ],
   "source": [
    "# Datos de la otra tabla\n",
    "cod_pais = data['COUNTRY (CODE)']\n",
    "año = data['YEAR (DISPLAY)']\n",
    "cod_indicador = data['GHO (CODE)']\n",
    "valor = data['Display Value']\n",
    "\n",
    "# Lista de países deseados\n",
    "lista_cod_pais = ['DEU', 'AUS', 'CAN', 'ESP', 'USA', 'ITA', 'JPN', 'GBR', 'RUS', 'SWE',\n",
    "                  'ALB', 'ARG', 'BRA', 'COL', 'VNM', 'PHL', 'IND', 'IDN', 'MEX', 'PER',\n",
    "                  'ZAF', 'THA', 'AFG', 'BGD', 'EGY', 'ETH', 'IRQ', 'IRN', 'KEN', 'MAR']\n",
    "\n",
    "# Crear un diccionario vacío\n",
    "datos_dict = {}\n",
    "\n",
    "# Agregar los datos al diccionario solo para los países deseados\n",
    "for i in range(len(cod_pais)):\n",
    "    if cod_pais[i] in lista_cod_pais:\n",
    "        datos_dict[i] = {\n",
    "            'COD_PAIS': cod_pais[i],\n",
    "            'ANIO': año[i],\n",
    "            'COD_INDICADOR': cod_indicador[i],\n",
    "            'VALOR': valor[i]\n",
    "        }\n",
    "\n",
    "# Crear el DataFrame a partir del diccionario\n",
    "datos = pd.DataFrame.from_dict(datos_dict, orient='index')\n",
    "\n",
    "# Imprimir el nuevo DataFrame\n",
    "print(datos)"
   ]
  },
  {
   "cell_type": "code",
   "execution_count": 9,
   "metadata": {},
   "outputs": [
    {
     "data": {
      "text/plain": [
       "COD_PAIS         0\n",
       "ANIO             0\n",
       "COD_INDICADOR    0\n",
       "VALOR            0\n",
       "dtype: int64"
      ]
     },
     "execution_count": 9,
     "metadata": {},
     "output_type": "execute_result"
    }
   ],
   "source": [
    "datos.isnull().sum()"
   ]
  }
 ],
 "metadata": {
  "kernelspec": {
   "display_name": "Python 3",
   "language": "python",
   "name": "python3"
  },
  "language_info": {
   "codemirror_mode": {
    "name": "ipython",
    "version": 3
   },
   "file_extension": ".py",
   "mimetype": "text/x-python",
   "name": "python",
   "nbconvert_exporter": "python",
   "pygments_lexer": "ipython3",
   "version": "3.10.11"
  },
  "orig_nbformat": 4
 },
 "nbformat": 4,
 "nbformat_minor": 2
}
